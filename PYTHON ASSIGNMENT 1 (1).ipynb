{
 "cells": [
  {
   "cell_type": "markdown",
   "id": "46c7eb2c-1387-49f1-9a6e-036ab2009c0c",
   "metadata": {},
   "source": [
    "# PYTHON BASIC QUESTIONS"
   ]
  },
  {
   "cell_type": "markdown",
   "id": "8b9dde9d-f363-411f-8f43-13b4a00459fb",
   "metadata": {},
   "source": [
    "### Q 1. What is Python, and why is it popular?"
   ]
  },
  {
   "cell_type": "markdown",
   "id": "3b225470-36dc-4416-918f-bb40ef694462",
   "metadata": {},
   "source": [
    "Ans. Python is a high-level, interpreted programming language known for its simplicity and readability. It supports multiple programming paradigms, including procedural, object-oriented, and functional programming.\n",
    "Why Python is Popular:\n",
    "1. Easy to Learn and Use: Simple syntax resembling natural language.\n",
    "2. Versatile: Used in web development, data science, AI, machine learning, automation, and more.\n",
    "3. Rich Libraries: Includes extensive libraries like NumPy, Pandas, TensorFlow, and Flask.\n",
    "4. Community Support: Large and active developer community.\n",
    "5. Cross-Platform: Works on different operating systems without modification."
   ]
  },
  {
   "cell_type": "markdown",
   "id": "75bf5dfc-dfd0-4454-b8f9-16a7bed2a301",
   "metadata": {},
   "source": [
    "### Q 2. What is an interpreter in Python?"
   ]
  },
  {
   "cell_type": "markdown",
   "id": "f0e26b02-fb93-4471-9120-1d1ece78a6a7",
   "metadata": {},
   "source": [
    "Ans. An interpreter in Python is a program that executes Python code line by line, converting it into machine-readable instructions on the fly. Unlike compilers, it does not produce a standalone executable file, making Python programs easier to test and debug but slightly slower than compiled languages."
   ]
  },
  {
   "cell_type": "markdown",
   "id": "98baa68d-36e0-4022-aa06-6c6c16b4e1a4",
   "metadata": {},
   "source": [
    "### Q 3. What are pre-defined keywords in Python?"
   ]
  },
  {
   "cell_type": "markdown",
   "id": "dee080a4-cfbc-47a7-87aa-96f05acf30ac",
   "metadata": {},
   "source": [
    "Ans. Pre-defined keywords in Python are reserved words that have special meanings and purposes in the language. They cannot be used as variable names or identifiers. Python has soft keywords (context-dependent) and strict keywords.\n",
    "\n",
    "Examples:\n",
    "1. Control Flow: if, else, elif, while, for, break, continue\n",
    "2. Logical: and, or, not\n",
    "3. Data Types: int, float, str, list, dict, tuple\n",
    "4. Others: def, class, return, import, global, with, as"
   ]
  },
  {
   "cell_type": "markdown",
   "id": "c2a20ee8-0b5f-48dc-9ae3-9aee180b8339",
   "metadata": {},
   "source": [
    "### Q 4. Can keywords be used as variable names?"
   ]
  },
  {
   "cell_type": "markdown",
   "id": "07195068-5299-4b9a-bfa6-2ed36267caa8",
   "metadata": {},
   "source": [
    "Ans. No, keywords cannot be used as variable names in Python because they are reserved for specific language functions and syntax. Using them as variable names will result in a SyntaxError."
   ]
  },
  {
   "cell_type": "markdown",
   "id": "3b7f8cdc-ffbe-440e-9037-ce3da43713d2",
   "metadata": {},
   "source": [
    "### Q 5. What is mutability in Python?"
   ]
  },
  {
   "cell_type": "markdown",
   "id": "1c0db3cf-cbc3-4e0c-aaaa-5cde0d105f40",
   "metadata": {},
   "source": [
    "Ans. Mutability in Python refers to whether an object’s value can be changed after it is created.\n",
    "\n",
    "Example:\n",
    "1. Mutable Objects: Can be modified after creation. Examples: list, dict, set."
   ]
  },
  {
   "cell_type": "markdown",
   "id": "5f3f0c4e-7fb1-4c8d-b28d-1165aa6a5479",
   "metadata": {},
   "source": [
    "### Q 6. Why are lists mutable, but tuples are immutable?"
   ]
  },
  {
   "cell_type": "markdown",
   "id": "e48065f7-c6ce-4566-b7a2-30757483b6dc",
   "metadata": {},
   "source": [
    "Ans. The mutability of lists and the immutability of tuples in Python are by design, based on their intended use cases:\n",
    "\n",
    "Why Lists are Mutable:\n",
    "1. Dynamic Nature: Lists are designed to store collections of items that may change over time (add, remove, or modify elements).\n",
    "2. Use Case: They're ideal for scenarios requiring frequent updates, like dynamic data structures.\n",
    "3. Implementation: Python allocates additional memory to lists, allowing for in-place modifications.\n",
    "\n",
    "Why Tuples are Immutable:\n",
    "1. Data Integrity: Tuples are meant to store fixed collections of data that should not be changed (e.g., coordinates, database keys).\n",
    "2. Hashability: Immutability allows tuples to be hashable, so they can be used as keys in dictionaries or elements in sets.\n",
    "3. Optimization: Tuples consume less memory and are faster than lists because they don't need to support dynamic changes."
   ]
  },
  {
   "cell_type": "markdown",
   "id": "b15eb50c-5de6-44ed-a861-91908560ce32",
   "metadata": {},
   "source": [
    "### Q 7. What is the difference between “==” and “is” operators in Python?"
   ]
  },
  {
   "cell_type": "markdown",
   "id": "3254ea9a-dd02-4fc0-88d9-13488e57c44e",
   "metadata": {},
   "source": [
    "Ans. The == and is operators in Python are used for comparisons, but they serve different purposes:\n",
    "\n",
    "== (Equality Operator): Compares the values of two objects to check if they are equal"
   ]
  },
  {
   "cell_type": "code",
   "execution_count": 2,
   "id": "cd92dae9-dd37-4278-8777-f0b32c30f140",
   "metadata": {},
   "outputs": [
    {
     "name": "stdout",
     "output_type": "stream",
     "text": [
      "True\n"
     ]
    }
   ],
   "source": [
    "# EXAMPLE:\n",
    "a = [1, 2, 3]\n",
    "b = [1, 2, 3]\n",
    "print(a == b)  # True (because the values are equal)"
   ]
  },
  {
   "cell_type": "markdown",
   "id": "21e7f973-fa91-4014-99c0-30e0e474a160",
   "metadata": {},
   "source": [
    "is (Identity Operator): Compares the memory addresses (identity) of two objects to check if they are the same object."
   ]
  },
  {
   "cell_type": "code",
   "execution_count": 3,
   "id": "b51b7a1b-b618-41a2-af00-9a446edfa944",
   "metadata": {},
   "outputs": [
    {
     "name": "stdout",
     "output_type": "stream",
     "text": [
      "False\n"
     ]
    }
   ],
   "source": [
    "# EXAMPLE:\n",
    "a = [1, 2, 3]\n",
    "b = [1, 2, 3]\n",
    "print(a is b)  # False (because they are different objects in memory)"
   ]
  },
  {
   "cell_type": "markdown",
   "id": "def326c8-1c4b-4530-908b-8be3284a4439",
   "metadata": {},
   "source": [
    "Key Difference:\n",
    "* Use == to check if two objects have the same value.\n",
    "* Use is to check if two objects are the same instance in memory."
   ]
  },
  {
   "cell_type": "markdown",
   "id": "6583266a-cfcb-433d-8126-9d34f162188f",
   "metadata": {},
   "source": [
    "### Q 8. What are logical operators in Python?"
   ]
  },
  {
   "cell_type": "markdown",
   "id": "cd2d4198-8dd7-4ccd-838b-0d3bcb8b00e6",
   "metadata": {},
   "source": [
    "Ans. Logical operators in Python are used to perform logical operations on boolean values (True or False). They are typically used in conditional statements to combine or modify conditions.\n",
    "\n",
    "Logical Operators in Python:\n",
    "1. and (Logical AND):\n",
    "    * Returns True if both conditions are True"
   ]
  },
  {
   "cell_type": "code",
   "execution_count": 4,
   "id": "14c70d08-16a5-49c5-abde-63e7ea28b206",
   "metadata": {},
   "outputs": [
    {
     "name": "stdout",
     "output_type": "stream",
     "text": [
      "True\n"
     ]
    }
   ],
   "source": [
    "# EXAMPLE:\n",
    "print(5 > 3 and 2 < 4) # Output: True"
   ]
  },
  {
   "cell_type": "markdown",
   "id": "5e597aa1-0130-4b10-bb62-3341687a673b",
   "metadata": {},
   "source": [
    "2. or (Logical OR):\n",
    "    * Returns True if at least one condition is True."
   ]
  },
  {
   "cell_type": "code",
   "execution_count": 5,
   "id": "46d94d3b-d5d3-4747-ab7a-cfa809e4d56a",
   "metadata": {},
   "outputs": [
    {
     "name": "stdout",
     "output_type": "stream",
     "text": [
      "True\n"
     ]
    }
   ],
   "source": [
    "# EXAMPLE:\n",
    "print(5 > 3 or 2 > 4)  # Output: True"
   ]
  },
  {
   "cell_type": "markdown",
   "id": "d6a29671-4a95-4e92-a233-98ad9339caea",
   "metadata": {},
   "source": [
    "3. not (Logical NOT):\n",
    "    * Returns the opposite of the boolean value."
   ]
  },
  {
   "cell_type": "code",
   "execution_count": 6,
   "id": "37bd74db-725a-4822-9bfa-130e4a266173",
   "metadata": {},
   "outputs": [
    {
     "name": "stdout",
     "output_type": "stream",
     "text": [
      "False\n"
     ]
    }
   ],
   "source": [
    "# EXAMPLE:\n",
    "print(not (5 > 3))     # Output: False"
   ]
  },
  {
   "cell_type": "markdown",
   "id": "37328391-cdf7-4d65-8b2b-806617ef0c1f",
   "metadata": {},
   "source": [
    "### Q 9. What is type casting in Python?"
   ]
  },
  {
   "cell_type": "markdown",
   "id": "fb8288d0-ed5b-48f6-98ad-cc75379deca8",
   "metadata": {},
   "source": [
    "Ans. Type casting in Python refers to converting one data type into another. It allows you to explicitly change the type of a value or variable, enabling compatibility and operations between different types."
   ]
  },
  {
   "cell_type": "markdown",
   "id": "02ae5729-9139-44b4-ac57-b8e01a660330",
   "metadata": {},
   "source": [
    "### Q 10. What is the difference between implicit and explicit type casting?"
   ]
  },
  {
   "cell_type": "markdown",
   "id": "d664d1e4-128c-4f09-9cd9-d6b6c6e8d5e7",
   "metadata": {},
   "source": [
    "Ans. Types of Type Casting:\n",
    "1. Implicit Type Casting:\n",
    "   * Python automatically converts one data type to another (e.g., int to float) during operations when safe to do so."
   ]
  },
  {
   "cell_type": "code",
   "execution_count": 7,
   "id": "97df6659-7712-43b3-b5a6-b02192936d3c",
   "metadata": {},
   "outputs": [
    {
     "name": "stdout",
     "output_type": "stream",
     "text": [
      "7.5\n",
      "<class 'float'>\n"
     ]
    }
   ],
   "source": [
    "# EXAMPLE:\n",
    "x = 5  # int\n",
    "y = 2.5  # float\n",
    "z = x + y  # Implicitly converts `x` to float\n",
    "print(z)  # Output: 7.5\n",
    "print(type(z))  # Output: <class 'float'>"
   ]
  },
  {
   "cell_type": "markdown",
   "id": "112b773d-15d1-4225-a902-82a3a05d77e3",
   "metadata": {},
   "source": [
    "2. Explicit Type Casting:\n",
    "   * The programmer manually converts a value using Python's built-in functions like int(), float(), str(), etc."
   ]
  },
  {
   "cell_type": "code",
   "execution_count": 8,
   "id": "7f5e6187-b0d3-431e-877a-b8359607fd42",
   "metadata": {},
   "outputs": [
    {
     "name": "stdout",
     "output_type": "stream",
     "text": [
      "10\n",
      "<class 'str'>\n",
      "5\n"
     ]
    }
   ],
   "source": [
    "# EXAMPLE:\n",
    "# Integer to String\n",
    "x = 10\n",
    "y = str(x)\n",
    "print(y)  # Output: \"10\"\n",
    "print(type(y))  # Output: <class 'str'>\n",
    "\n",
    "# Float to Integer\n",
    "z = 5.6\n",
    "print(int(z))  # Output: 5"
   ]
  },
  {
   "cell_type": "markdown",
   "id": "72ad9ce6-2adb-4fb5-ac20-9c4de240512a",
   "metadata": {},
   "source": [
    "### Q 11. What is the purpose of conditional statements in Python?"
   ]
  },
  {
   "cell_type": "markdown",
   "id": "44381142-6bae-4e62-8f5d-c7f74c074b5d",
   "metadata": {},
   "source": [
    "Ans. The purpose of conditional statements in Python is to enable decision-making in a program by executing different blocks of code based on whether a condition is True or False. They allow programs to perform specific actions under certain conditions, making them dynamic and adaptable.\n",
    "\n",
    "Key Purposes:\n",
    "1. Control Flow: Direct the flow of program execution based on logical conditions.\n",
    "2. Dynamic Behavior: Execute different outcomes based on user input or program state.\n",
    "3. Branching: Handle multiple scenarios with if, elif, and else statements.\n",
    "4. Error Handling: Check and handle specific conditions to avoid errors or invalid states."
   ]
  },
  {
   "cell_type": "markdown",
   "id": "32c8cb84-c96f-4d92-8b54-2f834f7c99a8",
   "metadata": {},
   "source": [
    "EXAMPLE:"
   ]
  },
  {
   "cell_type": "code",
   "execution_count": 1,
   "id": "d15566c8-6f7f-4d9e-b387-e652f39cdd30",
   "metadata": {},
   "outputs": [
    {
     "name": "stdout",
     "output_type": "stream",
     "text": [
      "The weather is pleasant.\n"
     ]
    }
   ],
   "source": [
    "temperature = 30\n",
    "\n",
    "if temperature > 35:\n",
    "    print(\"It's very hot!\")\n",
    "elif 20 <= temperature <= 35:\n",
    "    print(\"The weather is pleasant.\")\n",
    "else:\n",
    "    print(\"It's cold.\")"
   ]
  },
  {
   "cell_type": "markdown",
   "id": "8f451fc7-25aa-4469-8af5-b01676c275f0",
   "metadata": {},
   "source": [
    "### Q 12. How does the elif statement work?"
   ]
  },
  {
   "cell_type": "markdown",
   "id": "edcd5ed7-7f61-4e67-a315-cf05621a9db1",
   "metadata": {},
   "source": [
    "Ans. The elif statement in Python is used to check multiple conditions in a program. It stands for \"else if\" and allows you to test a new condition if the previous if or elif condition is False.\n",
    "\n",
    "How it works:\n",
    "1. The program first checks the if condition.\n",
    "2. If the if condition is False, it moves to the first elif condition.\n",
    "3. If the elif condition is True, its block of code is executed, and the program skips the remaining conditions.\n",
    "4. If none of the if or elif conditions are True, the optional else block is executed."
   ]
  },
  {
   "cell_type": "markdown",
   "id": "7294b28f-6dca-4ff4-a849-68e3d262f9bc",
   "metadata": {},
   "source": [
    "EXAMPLE"
   ]
  },
  {
   "cell_type": "code",
   "execution_count": null,
   "id": "5a35d10c-eb5c-4ed0-b9f1-a13f4faa7a7c",
   "metadata": {},
   "outputs": [],
   "source": [
    "if condition1:\n",
    "    # Code block executed if condition1 is True\n",
    "elif condition2:\n",
    "    # Code block executed if condition2 is True\n",
    "elif condition3:\n",
    "    # Code block executed if condition3 is True\n",
    "else:\n",
    "    # Code block executed if none of the conditions are True"
   ]
  },
  {
   "cell_type": "markdown",
   "id": "4dc245b0-a70d-4ff9-b0d9-ff6e9da1f008",
   "metadata": {},
   "source": [
    "### Q 13. What is the difference between for and while loops?"
   ]
  },
  {
   "cell_type": "markdown",
   "id": "380a2ac4-8195-4cf2-979f-59dbbe21ff09",
   "metadata": {},
   "source": [
    "Ans. for Loop:\n",
    "1. Purpose: Iterates over a sequence (like a list, string, tuple, range, etc.) or other iterable objects.\n",
    "2. When to Use: Use when the number of iterations is known or when iterating through a collection.\n",
    "3. Syntax:"
   ]
  },
  {
   "cell_type": "code",
   "execution_count": null,
   "id": "27329e06-62a6-4025-9d57-2f97d25ca3cb",
   "metadata": {},
   "outputs": [],
   "source": [
    "for variable in iterable:\n",
    "    # Code block"
   ]
  },
  {
   "cell_type": "markdown",
   "id": "f8d53d8f-c289-4391-8d7d-2a311e1de82d",
   "metadata": {},
   "source": [
    "4. EXAMPLE:"
   ]
  },
  {
   "cell_type": "code",
   "execution_count": 3,
   "id": "53d880f1-207a-4d40-b8ed-c930b57cd433",
   "metadata": {},
   "outputs": [
    {
     "name": "stdout",
     "output_type": "stream",
     "text": [
      "0\n",
      "1\n",
      "2\n",
      "3\n",
      "4\n"
     ]
    }
   ],
   "source": [
    "for i in range(5):  # Iterates 5 times\n",
    "    print(i)"
   ]
  },
  {
   "cell_type": "markdown",
   "id": "2cd33def-6c86-46a8-bc86-f3ea1911fb1e",
   "metadata": {},
   "source": [
    "while Loop:\n",
    "1. Purpose: Repeats a block of code as long as a condition is True.\n",
    "2. When to Use: Use when the number of iterations is not known in advance and depends on a condition.\n",
    "3. Syntax:"
   ]
  },
  {
   "cell_type": "code",
   "execution_count": null,
   "id": "d7a57e96-1b7a-4463-a3e3-534768b98cd2",
   "metadata": {},
   "outputs": [],
   "source": [
    "while condition:\n",
    "    # Code block"
   ]
  },
  {
   "cell_type": "markdown",
   "id": "2cca0c9a-df0a-4378-afc9-936cb4a93f24",
   "metadata": {},
   "source": [
    "4. EXAMPLE:"
   ]
  },
  {
   "cell_type": "code",
   "execution_count": 4,
   "id": "e71fef39-97af-4500-8541-215e87645513",
   "metadata": {},
   "outputs": [
    {
     "name": "stdout",
     "output_type": "stream",
     "text": [
      "0\n",
      "1\n",
      "2\n",
      "3\n",
      "4\n"
     ]
    }
   ],
   "source": [
    "count = 0\n",
    "while count < 5:  # Stops when count reaches 5\n",
    "    print(count)\n",
    "    count += 1"
   ]
  },
  {
   "cell_type": "markdown",
   "id": "13311a2f-4e75-42b7-9fff-ff581ab14134",
   "metadata": {},
   "source": [
    "### Q 14. Describe a scenario where a while loop is more suitable than a for loop?"
   ]
  },
  {
   "cell_type": "markdown",
   "id": "d5366d77-f338-4403-87b1-d08692087039",
   "metadata": {},
   "source": [
    "Ans. A while loop is more suitable than a for loop when the number of iterations is unknown and depends on a condition that might change dynamically during execution.\n",
    "\n",
    "Scenario: User Authentication\n",
    "* Suppose you are writing a program that repeatedly asks a user to enter the correct password until they get it right. Since the number of attempts is unknown, a while loop is more appropriate."
   ]
  },
  {
   "cell_type": "markdown",
   "id": "b8d0d164-3e29-46d3-b0ff-bfcb9626b09e",
   "metadata": {},
   "source": [
    "EXAMPLE:"
   ]
  },
  {
   "cell_type": "code",
   "execution_count": null,
   "id": "fbe0f211-8e13-48a1-be5e-91b80ad91908",
   "metadata": {},
   "outputs": [],
   "source": [
    "correct_password = \"python123\"\n",
    "user_input = \"\"\n",
    "\n",
    "while user_input != correct_password:\n",
    "    user_input = input(\"Enter the password: \")\n",
    "    if user_input == correct_password:\n",
    "        print(\"Access granted!\")\n",
    "    else:\n",
    "        print(\"Incorrect password. Try again.\")"
   ]
  },
  {
   "cell_type": "markdown",
   "id": "1355ed54-0f63-449c-a9e2-1798b467ab3b",
   "metadata": {},
   "source": [
    "Why while is Suitable:\n",
    "* The loop continues running until the user enters the correct password.\n",
    "* The number of iterations depends on the user's input, which cannot be predetermined.\n",
    "\n",
    "Using a for loop here would not be ideal because it is designed for scenarios where the number of iterations is known or when iterating over a sequence."
   ]
  },
  {
   "cell_type": "markdown",
   "id": "5e683b3d-6449-467b-aeb0-40daa340909b",
   "metadata": {},
   "source": [
    "# PRACTICAL QUESTION"
   ]
  },
  {
   "cell_type": "markdown",
   "id": "f392d342-d1ea-4548-a77b-2914d0a3e5e3",
   "metadata": {},
   "source": [
    "### Q 1. Write a Python program to print \"Hello, World!"
   ]
  },
  {
   "cell_type": "code",
   "execution_count": 1,
   "id": "8026cf7f-40d4-4512-b5a6-0afaef2729a2",
   "metadata": {},
   "outputs": [
    {
     "name": "stdout",
     "output_type": "stream",
     "text": [
      "Hello, World!\n"
     ]
    }
   ],
   "source": [
    "print(\"Hello, World!\")"
   ]
  },
  {
   "cell_type": "markdown",
   "id": "0754f41f-57b9-44fd-ab8b-40bc406456b5",
   "metadata": {},
   "source": [
    "### Q 2. Write a Python program that displays your name and age"
   ]
  },
  {
   "cell_type": "code",
   "execution_count": 7,
   "id": "88e30950-b9a0-4f8b-a981-0bc7a481831f",
   "metadata": {},
   "outputs": [
    {
     "name": "stdout",
     "output_type": "stream",
     "text": [
      "My name is Sameer Shankar Sharma\n",
      "I am 21 years old\n"
     ]
    }
   ],
   "source": [
    "name = \"Sameer Shankar Sharma\"  \n",
    "age = 21           \n",
    "\n",
    "print(\"My name is\", name)\n",
    "print(\"I am\", age, \"years old\")"
   ]
  },
  {
   "cell_type": "markdown",
   "id": "81c9cf97-a215-4fab-b708-ba7262bb86e8",
   "metadata": {},
   "source": [
    "### Q 3. Write code to print all the pre-defined keywords in Python using the keyword library?"
   ]
  },
  {
   "cell_type": "code",
   "execution_count": 8,
   "id": "e89fe9f7-5255-48c2-86c7-7cd590a5d419",
   "metadata": {},
   "outputs": [
    {
     "name": "stdout",
     "output_type": "stream",
     "text": [
      "Pre-defined keywords in Python:\n",
      "False\n",
      "None\n",
      "True\n",
      "and\n",
      "as\n",
      "assert\n",
      "async\n",
      "await\n",
      "break\n",
      "class\n",
      "continue\n",
      "def\n",
      "del\n",
      "elif\n",
      "else\n",
      "except\n",
      "finally\n",
      "for\n",
      "from\n",
      "global\n",
      "if\n",
      "import\n",
      "in\n",
      "is\n",
      "lambda\n",
      "nonlocal\n",
      "not\n",
      "or\n",
      "pass\n",
      "raise\n",
      "return\n",
      "try\n",
      "while\n",
      "with\n",
      "yield\n"
     ]
    }
   ],
   "source": [
    "import keyword\n",
    "\n",
    "keywords = keyword.kwlist\n",
    "\n",
    "print(\"Pre-defined keywords in Python:\")\n",
    "for kw in keywords:\n",
    "    print(kw)"
   ]
  },
  {
   "cell_type": "markdown",
   "id": "2175db87-9d1e-4155-974f-49bde4514fef",
   "metadata": {},
   "source": [
    "### Q 4. Write a program that checks if a given word is a Python keyword?"
   ]
  },
  {
   "cell_type": "code",
   "execution_count": 3,
   "id": "c47b2cd2-aa8d-46e8-97af-9b5b320f6286",
   "metadata": {},
   "outputs": [
    {
     "name": "stdin",
     "output_type": "stream",
     "text": [
      "Enter a word to check if it's a Python keyword:  if\n"
     ]
    },
    {
     "name": "stdout",
     "output_type": "stream",
     "text": [
      "'if' is a Python keyword.\n"
     ]
    }
   ],
   "source": [
    "import keyword\n",
    "\n",
    "def is_python_keyword(word):\n",
    "    \"\"\"\n",
    "    Check if a given word is a Python keyword.\n",
    "\n",
    "    Args:\n",
    "        word (str): The word to check.\n",
    "\n",
    "    Returns:\n",
    "        bool: True if the word is a Python keyword, False otherwise.\n",
    "    \"\"\"\n",
    "    return keyword.iskeyword(word)\n",
    "\n",
    "def main():\n",
    "    # Get user input\n",
    "    word = input(\"Enter a word to check if it's a Python keyword: \").strip()\n",
    "    \n",
    "    # Check if the word is a keyword\n",
    "    if is_python_keyword(word):\n",
    "        print(f\"'{word}' is a Python keyword.\")\n",
    "    else:\n",
    "        print(f\"'{word}' is NOT a Python keyword.\")\n",
    "\n",
    "if __name__ == \"__main__\":\n",
    "    main()"
   ]
  },
  {
   "cell_type": "markdown",
   "id": "8bcc5075-d82a-445c-aace-e8c6de3a8010",
   "metadata": {},
   "source": [
    "### Q 5. Create a list and tuple in Python, and demonstrate how attempting to change an element works differently for each."
   ]
  },
  {
   "cell_type": "code",
   "execution_count": 4,
   "id": "50832631-aa9a-4fd2-bfb0-ec3cf2d34119",
   "metadata": {},
   "outputs": [
    {
     "name": "stdout",
     "output_type": "stream",
     "text": [
      "Original List: [1, 2, 3]\n",
      "Original Tuple: (1, 2, 3)\n",
      "Modified List: [1, 99, 3]\n",
      "Error when trying to modify tuple: 'tuple' object does not support item assignment\n"
     ]
    }
   ],
   "source": [
    "def main():\n",
    "    # Create a list and a tuple\n",
    "    my_list = [1, 2, 3]\n",
    "    my_tuple = (1, 2, 3)\n",
    "    \n",
    "    print(\"Original List:\", my_list)\n",
    "    print(\"Original Tuple:\", my_tuple)\n",
    "    \n",
    "    # Modify an element in the list\n",
    "    my_list[1] = 99\n",
    "    print(\"Modified List:\", my_list)\n",
    "    \n",
    "    try:\n",
    "        # Attempt to modify an element in the tuple\n",
    "        my_tuple[1] = 99\n",
    "    except TypeError as e:\n",
    "        print(\"Error when trying to modify tuple:\", e)\n",
    "\n",
    "if __name__ == \"__main__\":\n",
    "    main()"
   ]
  },
  {
   "cell_type": "markdown",
   "id": "a08b1f28-400b-4c2a-b216-a97115f739ad",
   "metadata": {},
   "source": [
    "### Q 6. Write a function to demonstrate the behavior of mutable and immutable arguments."
   ]
  },
  {
   "cell_type": "code",
   "execution_count": 5,
   "id": "6e555f45-a818-4836-bd9a-14f2e88d164e",
   "metadata": {},
   "outputs": [
    {
     "name": "stdout",
     "output_type": "stream",
     "text": [
      "Before function call:\n",
      "Immutable arg1: 42\n",
      "Mutable arg2: [1, 2, 3]\n",
      "After function call:\n",
      "Immutable arg1: 42\n",
      "Mutable arg2: [1, 2, 3]\n"
     ]
    }
   ],
   "source": [
    "def demonstrate_mutable_immutable(arg1, arg2):\n",
    "\n",
    "    print(\"Inside function (before modification):\")\n",
    "    print(f\"Immutable arg1: {arg1}\")\n",
    "    print(f\"Mutable arg2: {arg2}\")\n",
    "    \n",
    "    # Attempt to modify both arguments\n",
    "    arg1 += 10 \n",
    "    arg2.append(99) \n",
    "    \n",
    "    print(\"Inside function (after modification):\")\n",
    "    print(f\"Immutable arg1: {arg1}\")\n",
    "    print(f\"Mutable arg2: {arg2}\")\n",
    "\n",
    "\n",
    "def main():\n",
    "    # Immutable and mutable arguments\n",
    "    immutable_arg = 42 \n",
    "    mutable_arg = [1, 2, 3] \n",
    "    \n",
    "    print(\"Before function call:\")\n",
    "    print(f\"Immutable arg1: {immutable_arg}\")\n",
    "    print(f\"Mutable arg2: {mutable_arg}\")   \n",
    "    \n",
    "    print(\"After function call:\")\n",
    "    print(f\"Immutable arg1: {immutable_arg}\")  \n",
    "    print(f\"Mutable arg2: {mutable_arg}\")  \n",
    "\n",
    "\n",
    "if __name__ == \"__main__\":\n",
    "    main()"
   ]
  },
  {
   "cell_type": "markdown",
   "id": "1a0da4f0-0a82-4a89-a6be-642be9128149",
   "metadata": {},
   "source": [
    "### Q 7. Write a program to demonstrate the use of logical operators."
   ]
  },
  {
   "cell_type": "code",
   "execution_count": 6,
   "id": "a0291682-e00f-4660-b178-cd742cc3a043",
   "metadata": {},
   "outputs": [
    {
     "name": "stdout",
     "output_type": "stream",
     "text": [
      "Demonstrating logical operators:\n",
      "a: True, b: True\n",
      "a and b: True\n",
      "a or b: True\n",
      "not a: False\n",
      "not b: False\n",
      "a: True, b: False\n",
      "a and b: False\n",
      "a or b: True\n",
      "not a: False\n",
      "not b: True\n",
      "a: False, b: True\n",
      "a and b: False\n",
      "a or b: True\n",
      "not a: True\n",
      "not b: False\n",
      "a: False, b: False\n",
      "a and b: False\n",
      "a or b: False\n",
      "not a: True\n",
      "not b: True\n"
     ]
    }
   ],
   "source": [
    "def demonstrate_logical_operators(a, b):\n",
    " \n",
    "    print(f\"a: {a}, b: {b}\")\n",
    "\n",
    "    # Logical AND\n",
    "    print(f\"a and b: {a and b}\")\n",
    "\n",
    "    # Logical OR\n",
    "    print(f\"a or b: {a or b}\")\n",
    "\n",
    "    # Logical NOT\n",
    "    print(f\"not a: {not a}\")\n",
    "    print(f\"not b: {not b}\")\n",
    "\n",
    "def main():\n",
    "    print(\"Demonstrating logical operators:\")\n",
    "\n",
    "    # Test cases\n",
    "    demonstrate_logical_operators(True, True)\n",
    "    demonstrate_logical_operators(True, False)\n",
    "    demonstrate_logical_operators(False, True)\n",
    "    demonstrate_logical_operators(False, False)\n",
    "\n",
    "if __name__ == \"__main__\":\n",
    "    main()"
   ]
  },
  {
   "cell_type": "markdown",
   "id": "e3323353-94ed-4762-bf03-16ea53030d79",
   "metadata": {},
   "source": [
    "### Q 8. Write a Python program to convert user input from string to integer, float, and boolean types."
   ]
  },
  {
   "cell_type": "code",
   "execution_count": 7,
   "id": "9149a4a1-818f-473d-94b3-4300af3b7030",
   "metadata": {},
   "outputs": [
    {
     "data": {
      "text/plain": [
       "str"
      ]
     },
     "execution_count": 7,
     "metadata": {},
     "output_type": "execute_result"
    }
   ],
   "source": [
    "# String to Integer\n",
    "a = \"5\"\n",
    "type(a)"
   ]
  },
  {
   "cell_type": "code",
   "execution_count": 12,
   "id": "f5611419-0536-41f7-99ea-ef81ad9ff284",
   "metadata": {},
   "outputs": [
    {
     "data": {
      "text/plain": [
       "int"
      ]
     },
     "execution_count": 12,
     "metadata": {},
     "output_type": "execute_result"
    }
   ],
   "source": [
    "type(int(a))"
   ]
  },
  {
   "cell_type": "code",
   "execution_count": 13,
   "id": "be021339-2e6b-4cde-b520-0c8f53aad36d",
   "metadata": {},
   "outputs": [
    {
     "data": {
      "text/plain": [
       "float"
      ]
     },
     "execution_count": 13,
     "metadata": {},
     "output_type": "execute_result"
    }
   ],
   "source": [
    "# String to Float\n",
    "type(float(a))"
   ]
  },
  {
   "cell_type": "code",
   "execution_count": 14,
   "id": "bd0b2ebd-ba54-4ea5-a22c-3b4a8d77a37b",
   "metadata": {},
   "outputs": [
    {
     "data": {
      "text/plain": [
       "bool"
      ]
     },
     "execution_count": 14,
     "metadata": {},
     "output_type": "execute_result"
    }
   ],
   "source": [
    "# String to Boolean\n",
    "type(bool(a))"
   ]
  },
  {
   "cell_type": "markdown",
   "id": "9c7798e0-bcc8-4851-b84e-346be9a843aa",
   "metadata": {},
   "source": [
    "### Q 9. Write code to demonstrate type casting with list elements"
   ]
  },
  {
   "cell_type": "code",
   "execution_count": 15,
   "id": "2a80b151-ed32-4535-bc58-5fcedf686996",
   "metadata": {},
   "outputs": [
    {
     "name": "stdout",
     "output_type": "stream",
     "text": [
      "Original list: ['123', '456', 789, 10.5, '3.14']\n",
      "Converted to integers: [123, 456, 789, 10, 3]\n",
      "Converted to floats: [123.0, 456.0, 789.0, 10.5, 3.14]\n",
      "Converted to strings: ['123', '456', '789', '10.5', '3.14']\n",
      "Selective casting (strings to floats where possible): [123.0, 456.0, 789, 10.5, 3.14]\n"
     ]
    }
   ],
   "source": [
    "# Example list with mixed types\n",
    "mixed_list = [\"123\", \"456\", 789, 10.5, \"3.14\"]\n",
    "\n",
    "# Demonstrating type casting\n",
    "print(\"Original list:\", mixed_list)\n",
    "\n",
    "# Convert all elements to integers (if possible)\n",
    "int_list = []\n",
    "for item in mixed_list:\n",
    "    try:\n",
    "        int_list.append(int(float(item)))  # Convert strings and floats to integers\n",
    "    except ValueError:\n",
    "        print(f\"Cannot convert '{item}' to an integer.\")\n",
    "print(\"Converted to integers:\", int_list)\n",
    "\n",
    "# Convert all elements to floats\n",
    "float_list = []\n",
    "for item in mixed_list:\n",
    "    try:\n",
    "        float_list.append(float(item))  # Convert strings and integers to floats\n",
    "    except ValueError:\n",
    "        print(f\"Cannot convert '{item}' to a float.\")\n",
    "print(\"Converted to floats:\", float_list)\n",
    "\n",
    "# Convert all elements to strings\n",
    "str_list = [str(item) for item in mixed_list]\n",
    "print(\"Converted to strings:\", str_list)\n",
    "\n",
    "# Example of type checking and selective casting\n",
    "new_list = []\n",
    "for item in mixed_list:\n",
    "    if isinstance(item, str):\n",
    "        try:\n",
    "            new_list.append(float(item))  # Convert string to float\n",
    "        except ValueError:\n",
    "            new_list.append(item)  # Keep as string if conversion fails\n",
    "    else:\n",
    "        new_list.append(item)  # Keep original if not a string\n",
    "print(\"Selective casting (strings to floats where possible):\", new_list)"
   ]
  },
  {
   "cell_type": "markdown",
   "id": "1fb57cde-2d01-4ac1-84d4-5f8a9726a4d9",
   "metadata": {},
   "source": [
    "### Q 10. Write a program that checks if a number is positive, negative, or zero"
   ]
  },
  {
   "cell_type": "code",
   "execution_count": 18,
   "id": "1f4fd45d-acb3-40fb-bff5-366340e2dcb0",
   "metadata": {},
   "outputs": [
    {
     "name": "stdin",
     "output_type": "stream",
     "text": [
      "Enter a number:  -1000\n"
     ]
    },
    {
     "name": "stdout",
     "output_type": "stream",
     "text": [
      "The number is negative.\n"
     ]
    }
   ],
   "source": [
    "def check_number(number):\n",
    "    \"\"\"\n",
    "    Determines if a number is positive, negative, or zero.\n",
    "\n",
    "    Args:\n",
    "        number (float): The number to check.\n",
    "\n",
    "    Returns:\n",
    "        str: A message indicating the result.\n",
    "    \"\"\"\n",
    "    if number > 0:\n",
    "        return \"The number is positive.\"\n",
    "    elif number < 0:\n",
    "        return \"The number is negative.\"\n",
    "    else:\n",
    "        return \"The number is zero.\"\n",
    "\n",
    "# Example usage\n",
    "try:\n",
    "    user_input = float(input(\"Enter a number: \"))\n",
    "    result = check_number(user_input)\n",
    "    print(result)\n",
    "except ValueError:\n",
    "    print(\"Please enter a valid number.\")\n"
   ]
  },
  {
   "cell_type": "markdown",
   "id": "1240dd5a-4355-4d20-afdf-12ab6ac675e1",
   "metadata": {},
   "source": [
    "### Q 11. Write a for loop to print numbers from 1 to 10."
   ]
  },
  {
   "cell_type": "code",
   "execution_count": 19,
   "id": "39ccdc7d-7eea-4aba-af88-8df52b50af89",
   "metadata": {},
   "outputs": [
    {
     "name": "stdout",
     "output_type": "stream",
     "text": [
      "1\n",
      "2\n",
      "3\n",
      "4\n",
      "5\n",
      "6\n",
      "7\n",
      "8\n",
      "9\n",
      "10\n"
     ]
    }
   ],
   "source": [
    "for number in range(1, 11):\n",
    "    print(number)\n"
   ]
  },
  {
   "cell_type": "markdown",
   "id": "4a850387-70e8-42fa-bfe6-76d31616daaf",
   "metadata": {},
   "source": [
    "### Q 12. Write a python programme to find the sum of all even numbers between 1 and 50."
   ]
  },
  {
   "cell_type": "code",
   "execution_count": 20,
   "id": "b5e369e0-f3e8-4833-a274-8a048a12536e",
   "metadata": {},
   "outputs": [
    {
     "name": "stdout",
     "output_type": "stream",
     "text": [
      "The sum of all even numbers between 1 and 50 is: 650\n"
     ]
    }
   ],
   "source": [
    "# Program to find the sum of all even numbers between 1 and 50\n",
    "\n",
    "# Initialize the sum variable\n",
    "sum_of_evens = 0\n",
    "\n",
    "# Loop through numbers from 1 to 50\n",
    "for number in range(1, 51):\n",
    "    if number % 2 == 0:  # Check if the number is even\n",
    "        sum_of_evens += number\n",
    "\n",
    "# Print the result\n",
    "print(\"The sum of all even numbers between 1 and 50 is:\", sum_of_evens)\n"
   ]
  },
  {
   "cell_type": "markdown",
   "id": "2bacae64-45a9-4cfd-9ae1-8fab23d15185",
   "metadata": {},
   "source": [
    "### Q 13. Write a programme to reverse a string using a while loop."
   ]
  },
  {
   "cell_type": "code",
   "execution_count": 21,
   "id": "815a380a-3ae2-4b2a-9a43-1d5c7b74526a",
   "metadata": {},
   "outputs": [
    {
     "name": "stdin",
     "output_type": "stream",
     "text": [
      "Enter a string to reverse:  Ajay\n"
     ]
    },
    {
     "name": "stdout",
     "output_type": "stream",
     "text": [
      "Reversed string: yajA\n"
     ]
    }
   ],
   "source": [
    "def reverse_string(input_string):\n",
    "    # Initialize variables\n",
    "    reversed_string = \"\"\n",
    "    index = len(input_string) - 1  # Start from the last character\n",
    "    \n",
    "    # Loop through the string in reverse order\n",
    "    while index >= 0:\n",
    "        reversed_string += input_string[index]\n",
    "        index -= 1  # Move to the previous character\n",
    "    \n",
    "    return reversed_string\n",
    "\n",
    "# Input from the user\n",
    "user_input = input(\"Enter a string to reverse: \")\n",
    "reversed_result = reverse_string(user_input)\n",
    "\n",
    "# Output the reversed string\n",
    "print(\"Reversed string:\", reversed_result)\n"
   ]
  },
  {
   "cell_type": "markdown",
   "id": "9dd98324-7137-40eb-9f00-3af90b600efc",
   "metadata": {},
   "source": [
    "### Q 15. Write a Python program to calculate the factorial of a number provided by the user using a while loop."
   ]
  },
  {
   "cell_type": "code",
   "execution_count": 22,
   "id": "e6b8f0d2-73ed-43fd-9164-bef74031fb11",
   "metadata": {},
   "outputs": [
    {
     "name": "stdin",
     "output_type": "stream",
     "text": [
      "Enter a non-negative integer:  24\n"
     ]
    },
    {
     "name": "stdout",
     "output_type": "stream",
     "text": [
      "The factorial of 24 is 620448401733239439360000.\n"
     ]
    }
   ],
   "source": [
    "def calculate_factorial():\n",
    "    try:\n",
    "        # Prompt the user for input\n",
    "        number = int(input(\"Enter a non-negative integer: \"))\n",
    "\n",
    "        if number < 0:\n",
    "            print(\"Factorial is not defined for negative numbers.\")\n",
    "            return\n",
    "\n",
    "        # Initialize variables for factorial calculation\n",
    "        factorial = 1\n",
    "        i = 1\n",
    "\n",
    "        # Calculate factorial using a while loop\n",
    "        while i <= number:\n",
    "            factorial *= i\n",
    "            i += 1\n",
    "\n",
    "        # Display the result\n",
    "        print(f\"The factorial of {number} is {factorial}.\")\n",
    "    except ValueError:\n",
    "        print(\"Invalid input. Please enter a non-negative integer.\")\n",
    "\n",
    "# Call the function\n",
    "calculate_factorial()"
   ]
  },
  {
   "cell_type": "code",
   "execution_count": null,
   "id": "9d78fea4-515f-420e-81ba-19dec3c8341b",
   "metadata": {},
   "outputs": [],
   "source": []
  }
 ],
 "metadata": {
  "kernelspec": {
   "display_name": "Python 3 (ipykernel)",
   "language": "python",
   "name": "python3"
  },
  "language_info": {
   "codemirror_mode": {
    "name": "ipython",
    "version": 3
   },
   "file_extension": ".py",
   "mimetype": "text/x-python",
   "name": "python",
   "nbconvert_exporter": "python",
   "pygments_lexer": "ipython3",
   "version": "3.12.7"
  }
 },
 "nbformat": 4,
 "nbformat_minor": 5
}
